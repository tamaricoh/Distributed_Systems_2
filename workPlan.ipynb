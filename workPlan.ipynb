{
 "cells": [
  {
   "cell_type": "markdown",
   "metadata": {},
   "source": [
    "|    | Task Description                                                   | Yarden | Tamar |  Pr |\n",
    "|----|--------------------------------------------------------------------|--------|-------|-----|\n",
    "| 1  | Go over the material and choose a solution approach for MapReduce  |    V   |       |  0  |\n",
    "| 2  | Write a class that performs the probability calculations           |        |   V   |  1  |\n",
    "| 3  | Understand how the sorting of the words is implemented             |        |   V   |  2  |\n",
    "| 4  | Integrate Yael's code into our task                                |    +   |   +   |  0  |\n",
    "| 5  | Build a corpus file for tests (that is relatively small)           |    V   |       |  1  |\n",
    "| 6  | Write the final report, including its structure                    |        |   V   |  2  |\n",
    "| 7  | Understand what a job flow is and what a job flow step is          |        |   V   |  0  |\n",
    "| 8  | Install single node cluster of Hadoop                              |    V   |       |  1  |\n",
    "| 9  | Create a Maven project                                             |        |   V   |  0  |\n",
    "| 10 | Create a file with naming conventions                              |        |   V   |  0  |"
   ]
  }
 ],
 "metadata": {
  "kernelspec": {
   "display_name": "Julia 1.8.5",
   "language": "julia",
   "name": "julia-1.8"
  },
  "language_info": {
   "file_extension": ".jl",
   "mimetype": "application/julia",
   "name": "julia",
   "version": "1.8.5"
  }
 },
 "nbformat": 4,
 "nbformat_minor": 2
}
